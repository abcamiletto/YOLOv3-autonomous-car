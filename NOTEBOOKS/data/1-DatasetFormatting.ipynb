{
 "cells": [
  {
   "cell_type": "markdown",
   "metadata": {},
   "source": [
    "# Dataset Formatting\n",
    "The Berkeley Deep Drive dataset is surely cool, but we need to filter the enormous amount of info that are given with each image."
   ]
  },
  {
   "cell_type": "code",
   "execution_count": 2,
   "metadata": {},
   "outputs": [],
   "source": [
    "#Importing main packages\n",
    "\n",
    "import numpy as np\n",
    "import tensorflow as tf\n",
    "import cv2\n",
    "import pathlib\n",
    "import json"
   ]
  },
  {
   "cell_type": "markdown",
   "metadata": {},
   "source": [
    "## Files preprocessing\n",
    "The main problem is that a 1.5GB JSON file is pretty much untractable, so i decided to split it in one JSON per image, deleting all useless information like lines and drivable areas and saving the new files elsewhere.\n",
    "\n",
    "Other than that, it seems like there are 140 images w/o label. That's pretty strange since i didn't see anyone ever mentioning it on the forums, but for now i will delete them and act like they never existed."
   ]
  },
  {
   "cell_type": "code",
   "execution_count": 3,
   "metadata": {},
   "outputs": [],
   "source": [
    "main_folder = str(pathlib.Path.cwd().joinpath('dataset_bdd', 'labels'))\n",
    "\n",
    "json_train_dir = main_folder + '/bdd100k_labels_images_train.json'\n",
    "json_val_dir = main_folder + '/bdd100k_labels_images_validation.json'\n",
    "\n",
    "folder_train = main_folder + '/train_jsons/'\n",
    "folder_train_csv = main_folder + '/train_label_raw/'\n",
    "folder_val = main_folder + '/val_jsons/'\n",
    "folder_val_csv = main_folder + '/val_label_raw/'"
   ]
  },
  {
   "cell_type": "markdown",
   "metadata": {},
   "source": [
    "### New data form\n",
    "And using more useful coordinates to describe the bounding boxes $(x, y, w, h)$ instead of $(x_1, x_2, y_1, y_2)$ and deleting all useless info"
   ]
  },
  {
   "cell_type": "code",
   "execution_count": 4,
   "metadata": {},
   "outputs": [],
   "source": [
    "#A function to get more meaningful values to describe the bounding boxes\n",
    "def pov_change(x1,x2,y1,y2):\n",
    "    xb = (x1+x2)/(2)\n",
    "    yb = (y1+y2)/(2)\n",
    "    wb = abs(x1-x2)/2\n",
    "    hb = abs(y1-y2)/2\n",
    "    return xb,yb,wb,hb\n",
    "\n",
    "#Loading a JSON file into a Python variable\n",
    "def json_parser(path):\n",
    "    with open(path, 'r') as read_file:\n",
    "        data = json.load(read_file)\n",
    "    return data"
   ]
  },
  {
   "cell_type": "code",
   "execution_count": 5,
   "metadata": {},
   "outputs": [],
   "source": [
    "#Cleaning a JSON file from all the useless information\n",
    "def json_cleaner(data):\n",
    "    # Cleaning timestamps and not so useful attributes\n",
    "    for item in data:\n",
    "        del item['attributes']\n",
    "        del item['timestamp']\n",
    "\n",
    "    # Cleaning drivable area and lanes\n",
    "    for item in data:\n",
    "        storing_indexes = []\n",
    "        for index, i in enumerate(item['labels']):\n",
    "            del i['attributes']\n",
    "            del i['manualShape']\n",
    "            del i['manualAttributes']\n",
    "            if 'box2d' in i:\n",
    "                xb,yb,wb,hb = pov_change(i['box2d']['x1'],i['box2d']['x2'],i['box2d']['y1'],i['box2d']['y2'])\n",
    "                i['box2d']['xb'] = round(xb)\n",
    "                i['box2d']['yb'] = round(yb)\n",
    "                i['box2d']['wb'] = round(wb)\n",
    "                i['box2d']['hb'] = round(hb)\n",
    "                del i['box2d']['x1']\n",
    "                del i['box2d']['x2']\n",
    "                del i['box2d']['y1']\n",
    "                del i['box2d']['y2']\n",
    "            # Checking if anything is corrupted\n",
    "            if not 'poly2d' in i and not 'box2d' in i: print('no box2d?' + str(i['id']))\n",
    "            if 'box3d' in i: print('wtf')\n",
    "                \n",
    "            del i['id']\n",
    "            if i['category'] == 'lane' or i['category'] == 'drivable area':\n",
    "                storing_indexes.append(index)\n",
    "        storing_indexes.sort(reverse=True)\n",
    "        for indexes in storing_indexes:\n",
    "            del item['labels'][indexes]\n",
    "    return data"
   ]
  },
  {
   "cell_type": "markdown",
   "metadata": {},
   "source": [
    "### Splitting labels in single files\n",
    "We're gonna create a json file for every image, with the same name + '.json'"
   ]
  },
  {
   "cell_type": "code",
   "execution_count": 6,
   "metadata": {},
   "outputs": [],
   "source": [
    "#Dividing a single JSON into multiple ones\n",
    "def split_data(data,path):\n",
    "    for item in data:\n",
    "        name = item['name']\n",
    "        with open(path + name + '.json', 'w') as file_to_write:\n",
    "            json.dump(item, file_to_write, indent = 4)\n",
    "    return"
   ]
  },
  {
   "cell_type": "markdown",
   "metadata": {},
   "source": [
    "## Update: splitting in raw files\n",
    "It doesn't seem like a good idea to stick with json data format, since there are way more efficient way to store info and load them to tensorflow. The best choice may be TFRecord, but we'll make it simple using raw files.\n",
    "I also decided to encode the category label into one-hot vector and add the objectiveness label, in such a way i get the 1x15 target vector already ok."
   ]
  },
  {
   "cell_type": "code",
   "execution_count": 27,
   "metadata": {},
   "outputs": [],
   "source": [
    "class_names = ['bus', 'traffic light', 'traffic sign', 'person', 'bike', 'truck', 'motor', 'car', 'train', 'rider']\n",
    "\n",
    "def split_data_csv(data, path):\n",
    "    for item in data:\n",
    "        name = item['name']\n",
    "        line = []\n",
    "        for objects in item['labels']:\n",
    "            one_hot = [int(objects['category'] == x) for x in class_names]\n",
    "            line_to_append = [objects['box2d']['xb'],\n",
    "                    objects['box2d']['yb'], \n",
    "                    objects['box2d']['wb'],\n",
    "                    objects['box2d']['hb'],\n",
    "                    1]\n",
    "            for logic in one_hot: line_to_append.append(logic)\n",
    "            line.append(line_to_append)\n",
    "        array = np.array(line, dtype = 'int16')\n",
    "        array.tofile(path + name + '.rawlabel')\n"
   ]
  },
  {
   "cell_type": "markdown",
   "metadata": {},
   "source": [
    "May take a while to complete the code below, be aware!"
   ]
  },
  {
   "cell_type": "code",
   "execution_count": 25,
   "metadata": {},
   "outputs": [
    {
     "name": "stdout",
     "output_type": "stream",
     "text": [
      "/home/andrea/AI/ispr_yolo/data\r\n"
     ]
    }
   ],
   "source": [
    "!pwd"
   ]
  },
  {
   "cell_type": "code",
   "execution_count": 28,
   "metadata": {},
   "outputs": [
    {
     "name": "stdout",
     "output_type": "stream",
     "text": [
      "Starting...\n",
      "Training data: done\n",
      "Validation data: done\n"
     ]
    }
   ],
   "source": [
    "runtime = True\n",
    "if runtime:\n",
    "    data_train = json_parser(json_train_dir)\n",
    "    data_train = json_cleaner(data_train)\n",
    "    print('Starting...')\n",
    "    split_data_csv(data_train, folder_train_csv)\n",
    "    print('Training data: done')\n",
    "    data_val = json_parser(json_val_dir)\n",
    "    data_val = json_cleaner(data_val)\n",
    "    split_data_csv(data_val, folder_val_csv)\n",
    "    print('Validation data: done')"
   ]
  },
  {
   "cell_type": "code",
   "execution_count": 20,
   "metadata": {},
   "outputs": [
    {
     "name": "stdout",
     "output_type": "stream",
     "text": [
      "Starting...\n",
      "Training data: done\n",
      "Validation data: done\n"
     ]
    }
   ],
   "source": []
  },
  {
   "cell_type": "markdown",
   "metadata": {},
   "source": [
    "### Deleting corrupted images\n",
    "Making sure every image in the train folder has a json file attached to it, otherwise delete the image."
   ]
  },
  {
   "cell_type": "code",
   "execution_count": 8,
   "metadata": {},
   "outputs": [
    {
     "name": "stdout",
     "output_type": "stream",
     "text": [
      "Images w/o label:1\n"
     ]
    }
   ],
   "source": [
    "def detect_missing_labels(delete = False):\n",
    "    counter = 1\n",
    "    main_dir = pathlib.Path.cwd().joinpath('dataset_bdd')\n",
    "    img_dir = main_dir.joinpath('images', '100k', 'train').glob('*.jpg')\n",
    "    label_dir = main_dir.joinpath('labels', 'train_jsons')\n",
    "    for img in img_dir:\n",
    "        img_name = img.name\n",
    "        label_path = label_dir.joinpath(img_name + '.json')\n",
    "        if not label_path.is_file():\n",
    "            counter = counter + 1\n",
    "            if delete:\n",
    "                img.unlink()\n",
    "                print('deleted')\n",
    "    print('Images w/o label:' + str(counter))\n",
    "    \n",
    "detect_missing_labels()"
   ]
  },
  {
   "cell_type": "markdown",
   "metadata": {},
   "source": [
    "## New Data Format\n",
    "\n",
    "Here below you can see how data was initially formatted, and how we cleaned it up"
   ]
  },
  {
   "cell_type": "code",
   "execution_count": 9,
   "metadata": {},
   "outputs": [
    {
     "name": "stdout",
     "output_type": "stream",
     "text": [
      "Initial Setup of the dataset:\n",
      "Data type: <class 'list'>\n",
      "Element of the list: <class 'dict'>\n",
      "Keys of the dictionaries: \n",
      "    name\n",
      "    attributes\n",
      "    timestamp\n",
      "    labels\n",
      "Dict example:\n",
      "    Key: name\n",
      "      Value: b1c66a42-6f7d68ca.jpg\n",
      "    Key: attributes\n",
      "      Value: {'weather': 'overcast', 'scene': 'city street', 'timeofday': 'daytime'}\n",
      "    Key: timestamp\n",
      "      Value: 10000\n",
      "    Key: labels\n",
      "      Value: it is a <class 'list'> made of <class 'dict'>\n",
      "{'category': 'traffic sign', 'attributes': {'occluded': False, 'truncated': False, 'trafficLightColor': 'none'}, 'manualShape': True, 'manualAttributes': True, 'box2d': {'x1': 1000.698742, 'y1': 281.992415, 'x2': 1040.626872, 'y2': 326.91156}, 'id': 0}\n",
      "{'category': 'traffic sign', 'attributes': {'occluded': False, 'truncated': False, 'trafficLightColor': 'none'}, 'manualShape': True, 'manualAttributes': True, 'box2d': {'x1': 214.613695, 'y1': 172.190058, 'x2': 274.505889, 'y2': 229.586743}, 'id': 1}\n",
      "\n",
      "\n",
      "\n",
      "\n"
     ]
    }
   ],
   "source": [
    "#Example function to show the difference between the data before and after the cleaning\n",
    "def showme_data_format(path):\n",
    "    with open(path, 'r') as read_file:\n",
    "        data = json.load(read_file)\n",
    "    print('Data type: ' + str(type(data)))\n",
    "    print('Element of the list: ' + str(type(data[0])))\n",
    "    print('Keys of the dictionaries: ')\n",
    "    for key in data[0]:\n",
    "        print('    ' + str(key))\n",
    "    print('Dict example:')\n",
    "    for key, value in data[0].items():\n",
    "        if key != 'labels':\n",
    "            print('    Key: ' + str(key))\n",
    "            print('      Value: ' + str(value))\n",
    "        else:\n",
    "            print('    Key: ' + str(key))\n",
    "            print('      Value: it is a ' + str(type(value)) + ' made of ' + str(type(value[0])))\n",
    "            for ondex, obj in enumerate(value):\n",
    "                if ondex < 2: print(obj)\n",
    "    print('\\n\\n\\n')\n",
    "\n",
    "print('Initial Setup of the dataset:')\n",
    "showme_data_format(main_folder + '/try.json')\n",
    "data = json_parser(main_folder + '/try.json')\n",
    "data_cleaned = json_cleaner(data)"
   ]
  },
  {
   "cell_type": "code",
   "execution_count": 10,
   "metadata": {},
   "outputs": [
    {
     "name": "stdout",
     "output_type": "stream",
     "text": [
      "Down here we have a full example of a cleaned single JSON \n",
      "\n",
      "{'name': 'b1c66a42-6f7d68ca.jpg', 'labels': [{'category': 'traffic sign', 'box2d': {'xb': 1020.66, 'yb': 304.45, 'wb': 19.96, 'hb': 22.46}}, {'category': 'traffic sign', 'box2d': {'xb': 244.56, 'yb': 200.89, 'wb': 29.95, 'hb': 28.7}}, {'category': 'traffic sign', 'box2d': {'xb': 813.54, 'yb': 327.54, 'wb': 16.22, 'hb': 14.35}}, {'category': 'traffic sign', 'box2d': {'xb': 668.8, 'yb': 309.44, 'wb': 16.22, 'hb': 6.24}}, {'category': 'traffic light', 'box2d': {'xb': 711.84, 'yb': 320.05, 'wb': 4.37, 'hb': 8.11}}, {'category': 'traffic light', 'box2d': {'xb': 631.36, 'yb': 306.32, 'wb': 4.99, 'hb': 10.61}}, {'category': 'traffic light', 'box2d': {'xb': 323.17, 'yb': 298.21, 'wb': 6.24, 'hb': 8.73}}, {'category': 'traffic sign', 'box2d': {'xb': 290.1, 'yb': 295.09, 'wb': 19.34, 'hb': 6.86}}, {'category': 'traffic sign', 'box2d': {'xb': 226.47, 'yb': 306.32, 'wb': 5.61, 'hb': 5.61}}, {'category': 'car', 'box2d': {'xb': 243.94, 'yb': 363.1, 'wb': 38.06, 'hb': 24.96}}, {'category': 'car', 'box2d': {'xb': 88.59, 'yb': 372.45, 'wb': 41.18, 'hb': 28.07}}, {'category': 'car', 'box2d': {'xb': 296.97, 'yb': 369.96, 'wb': 49.91, 'hb': 25.58}}, {'category': 'car', 'box2d': {'xb': 26.2, 'yb': 369.96, 'wb': 26.2, 'hb': 33.07}}, {'category': 'rider', 'box2d': {'xb': 656.94, 'yb': 368.09, 'wb': 6.86, 'hb': 13.73}}, {'category': 'motor', 'box2d': {'xb': 656.32, 'yb': 377.45, 'wb': 7.49, 'hb': 10.61}}, {'category': 'traffic light', 'box2d': {'xb': 719.33, 'yb': 345.0, 'wb': 6.86, 'hb': 8.11}}, {'category': 'car', 'box2d': {'xb': 702.49, 'yb': 374.95, 'wb': 18.72, 'hb': 18.09}}, {'category': 'car', 'box2d': {'xb': 719.95, 'yb': 377.45, 'wb': 13.73, 'hb': 13.1}}, {'category': 'car', 'box2d': {'xb': 744.29, 'yb': 383.06, 'wb': 16.84, 'hb': 17.47}}, {'category': 'car', 'box2d': {'xb': 778.6, 'yb': 385.56, 'wb': 29.95, 'hb': 23.71}}, {'category': 'car', 'box2d': {'xb': 846.6, 'yb': 391.79, 'wb': 59.27, 'hb': 33.69}}, {'category': 'car', 'box2d': {'xb': 919.59, 'yb': 413.63, 'wb': 39.93, 'hb': 38.06}}, {'category': 'car', 'box2d': {'xb': 1073.69, 'yb': 409.89, 'wb': 137.88, 'hb': 74.24}}, {'category': 'car', 'box2d': {'xb': 1241.52, 'yb': 472.9, 'wb': 37.43, 'hb': 57.4}}, {'category': 'traffic light', 'box2d': {'xb': 606.41, 'yb': 346.88, 'wb': 3.74, 'hb': 6.24}}, {'category': 'traffic light', 'box2d': {'xb': 594.55, 'yb': 335.02, 'wb': 3.12, 'hb': 6.86}}, {'category': 'traffic light', 'box2d': {'xb': 532.79, 'yb': 336.89, 'wb': 3.74, 'hb': 4.99}}, {'category': 'car', 'box2d': {'xb': 558.37, 'yb': 361.85, 'wb': 6.86, 'hb': 6.24}}, {'category': 'car', 'box2d': {'xb': 580.21, 'yb': 360.6, 'wb': 6.24, 'hb': 8.73}}, {'category': 'car', 'box2d': {'xb': 589.56, 'yb': 367.46, 'wb': 8.11, 'hb': 10.61}}, {'category': 'car', 'box2d': {'xb': 616.39, 'yb': 368.71, 'wb': 19.96, 'hb': 16.84}}, {'category': 'car', 'box2d': {'xb': 526.55, 'yb': 361.85, 'wb': 8.73, 'hb': 6.24}}, {'category': 'car', 'box2d': {'xb': 509.71, 'yb': 363.72, 'wb': 8.11, 'hb': 6.86}}, {'category': 'car', 'box2d': {'xb': 466.04, 'yb': 363.1, 'wb': 13.1, 'hb': 9.98}}]}\n"
     ]
    }
   ],
   "source": [
    "print('Down here we have a full example of a cleaned single JSON \\n')\n",
    "print(data_cleaned[0])"
   ]
  }
 ],
 "metadata": {
  "kernelspec": {
   "display_name": "Python 3",
   "language": "python",
   "name": "python3"
  },
  "language_info": {
   "codemirror_mode": {
    "name": "ipython",
    "version": 3
   },
   "file_extension": ".py",
   "mimetype": "text/x-python",
   "name": "python",
   "nbconvert_exporter": "python",
   "pygments_lexer": "ipython3",
   "version": "3.8.5"
  }
 },
 "nbformat": 4,
 "nbformat_minor": 4
}
