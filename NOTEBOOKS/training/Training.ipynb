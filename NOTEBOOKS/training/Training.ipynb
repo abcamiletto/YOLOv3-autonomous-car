{
 "cells": [
  {
   "cell_type": "markdown",
   "metadata": {},
   "source": [
    "# Training\n",
    "Seems like we're ready for training!\n",
    "\n",
    "Be aware of:\n",
    "IP : 131.114.137.168\n",
    "\n",
    "username : boscolo\n",
    "\n",
    "pssw : unipi!2020$\n",
    "\n",
    "\n",
    "\n",
    "stai attento a usare al max 2 GPU"
   ]
  },
  {
   "cell_type": "code",
   "execution_count": 1,
   "metadata": {},
   "outputs": [],
   "source": [
    "import sys, os, datetime\n",
    "sys.path.append('/home/andrea/AI/ispr_yolo/data')\n",
    "sys.path.append('/home/andrea/AI/ispr_yolo/model')\n",
    "from yolo import YOLOv3\n",
    "from lossfunction import YoloLoss\n",
    "from DataPreprocessing import create_dataset\n",
    "import tensorflow as tf\n",
    "from tensorflow.keras.callbacks import ModelCheckpoint, ReduceLROnPlateau, EarlyStopping, TensorBoard"
   ]
  },
  {
   "cell_type": "code",
   "execution_count": 1,
   "metadata": {},
   "outputs": [],
   "source": [
    "!rm -rf logs\n",
    "!mkdir logs logs/fit logs/scalars"
   ]
  },
  {
   "cell_type": "code",
   "execution_count": 3,
   "metadata": {
    "scrolled": true
   },
   "outputs": [
    {
     "name": "stdout",
     "output_type": "stream",
     "text": [
      "/bin/sh: 1: kill: No such process\r\n",
      "\r\n"
     ]
    },
    {
     "data": {
      "text/plain": [
       "Reusing TensorBoard on port 6001 (pid 813), started 2 days, 0:32:27 ago. (Use '!kill 813' to kill it.)"
      ]
     },
     "metadata": {},
     "output_type": "display_data"
    },
    {
     "data": {
      "text/html": [
       "\n",
       "      <iframe id=\"tensorboard-frame-ce7579a009c48440\" width=\"100%\" height=\"800\" frameborder=\"0\">\n",
       "      </iframe>\n",
       "      <script>\n",
       "        (function() {\n",
       "          const frame = document.getElementById(\"tensorboard-frame-ce7579a009c48440\");\n",
       "          const url = new URL(\"/\", window.location);\n",
       "          const port = 6001;\n",
       "          if (port) {\n",
       "            url.port = port;\n",
       "          }\n",
       "          frame.src = url;\n",
       "        })();\n",
       "      </script>\n",
       "    "
      ],
      "text/plain": [
       "<IPython.core.display.HTML object>"
      ]
     },
     "metadata": {},
     "output_type": "display_data"
    }
   ],
   "source": [
    "%load_ext tensorboard\n",
    "!kill 813\n",
    "%tensorboard --logdir logs --port 6001 --host=0.0.0.0"
   ]
  },
  {
   "cell_type": "code",
   "execution_count": 4,
   "metadata": {},
   "outputs": [],
   "source": [
    "def scheduler(epoch, lr):\n",
    "    epoch=epoch+1\n",
    "    if epoch < 4:\n",
    "        print('Learning rate for epoch n.', epoch, ' :', lr)\n",
    "        return lr\n",
    "    elif epoch < 8:\n",
    "        print('Learning rate for epoch n.', epoch, ' :', lr*0.8)\n",
    "        return lr * 0.8\n",
    "    else:\n",
    "        print('Learning rate for epoch n.', epoch, ' :', lr*0.2)\n",
    "        return lr * 0.2\n",
    "\n",
    "lr_scheduler = tf.keras.callbacks.LearningRateScheduler(scheduler)"
   ]
  },
  {
   "cell_type": "code",
   "execution_count": null,
   "metadata": {},
   "outputs": [
    {
     "name": "stdout",
     "output_type": "stream",
     "text": [
      "INFO:tensorflow:Using MirroredStrategy with devices ('/job:localhost/replica:0/task:0/device:GPU:2', '/job:localhost/replica:0/task:0/device:GPU:3')\n",
      "INFO:tensorflow:Reduce to /job:localhost/replica:0/task:0/device:CPU:0 then broadcast to ('/job:localhost/replica:0/task:0/device:CPU:0',).\n",
      "INFO:tensorflow:Reduce to /job:localhost/replica:0/task:0/device:CPU:0 then broadcast to ('/job:localhost/replica:0/task:0/device:CPU:0',).\n",
      "INFO:tensorflow:Reduce to /job:localhost/replica:0/task:0/device:CPU:0 then broadcast to ('/job:localhost/replica:0/task:0/device:CPU:0',).\n",
      "INFO:tensorflow:Reduce to /job:localhost/replica:0/task:0/device:CPU:0 then broadcast to ('/job:localhost/replica:0/task:0/device:CPU:0',).\n",
      "INFO:tensorflow:Reduce to /job:localhost/replica:0/task:0/device:CPU:0 then broadcast to ('/job:localhost/replica:0/task:0/device:CPU:0',).\n",
      "INFO:tensorflow:Reduce to /job:localhost/replica:0/task:0/device:CPU:0 then broadcast to ('/job:localhost/replica:0/task:0/device:CPU:0',).\n",
      "INFO:tensorflow:Reduce to /job:localhost/replica:0/task:0/device:CPU:0 then broadcast to ('/job:localhost/replica:0/task:0/device:CPU:0',).\n",
      "INFO:tensorflow:Reduce to /job:localhost/replica:0/task:0/device:CPU:0 then broadcast to ('/job:localhost/replica:0/task:0/device:CPU:0',).\n",
      "INFO:tensorflow:Reduce to /job:localhost/replica:0/task:0/device:CPU:0 then broadcast to ('/job:localhost/replica:0/task:0/device:CPU:0',).\n",
      "INFO:tensorflow:Reduce to /job:localhost/replica:0/task:0/device:CPU:0 then broadcast to ('/job:localhost/replica:0/task:0/device:CPU:0',).\n",
      "Learning rate for epoch n. 1  : 0.0010000000474974513\n",
      "Epoch 1/20\n",
      "WARNING:tensorflow:From /usr/local/lib/python3.6/dist-packages/tensorflow/python/data/ops/multi_device_iterator_ops.py:601: get_next_as_optional (from tensorflow.python.data.ops.iterator_ops) is deprecated and will be removed in a future version.\n",
      "Instructions for updating:\n",
      "Use `tf.data.Iterator.get_next_as_optional()` instead.\n",
      "INFO:tensorflow:batch_all_reduce: 66 all-reduces with algorithm = nccl, num_packs = 1\n",
      "INFO:tensorflow:batch_all_reduce: 66 all-reduces with algorithm = nccl, num_packs = 1\n",
      "   1/2911 [..............................] - ETA: 0s - loss: 65350.5781 - tf_op_layer_dense_grid_loss: 52060.6797 - tf_op_layer_medium_grid_loss: 11273.9883 - tf_op_layer_coarser_grid_loss: 2015.9065WARNING:tensorflow:From /usr/local/lib/python3.6/dist-packages/tensorflow/python/ops/summary_ops_v2.py:1277: stop (from tensorflow.python.eager.profiler) is deprecated and will be removed after 2020-07-01.\n",
      "Instructions for updating:\n",
      "use `tf.profiler.experimental.stop` instead.\n",
      "2911/2911 [==============================] - 2758s 947ms/step - loss: 580.5178 - tf_op_layer_dense_grid_loss: 496.8252 - tf_op_layer_medium_grid_loss: 68.4981 - tf_op_layer_coarser_grid_loss: 15.1941 - val_loss: 248.4993 - val_tf_op_layer_dense_grid_loss: 225.7861 - val_tf_op_layer_medium_grid_loss: 16.8698 - val_tf_op_layer_coarser_grid_loss: 5.8433\n",
      "Learning rate for epoch n. 2  : 0.0010000000474974513\n",
      "Epoch 2/20\n",
      "1294/2911 [============>.................] - ETA: 23:01 - loss: 244.6269 - tf_op_layer_dense_grid_loss: 217.2767 - tf_op_layer_medium_grid_loss: 21.0427 - tf_op_layer_coarser_grid_loss: 6.3073"
     ]
    }
   ],
   "source": [
    "with tf.device('/cpu:0'):\n",
    "    img_dir = '/home/andrea/AI/ispr_yolo/data/dataset_bdd/images/100k/train' + '/*.jpg'\n",
    "    train_ds_aug = create_dataset(img_dir, batch = 24, augmented = True)\n",
    "    img_dir = '/home/andrea/AI/ispr_yolo/data/dataset_bdd/images/100k/val' + '/*.jpg'\n",
    "    val_ds = create_dataset(img_dir, batch = 24, validation = True)\n",
    "\n",
    "strategy = tf.distribute.MirroredStrategy(devices=[\"/gpu:2\", \"/gpu:3\"])\n",
    "with strategy.scope():\n",
    "    log_dir = os.path.join(\"logs/fit\", datetime.datetime.now().strftime(\"%m%d-%H%M%S\"))\n",
    "    yolo = YOLOv3(size = 1280, training = True)\n",
    "    nadam = tf.keras.optimizers.Nadam(learning_rate=1e-03) #2e-04\n",
    "    yolo.compile(loss=[YoloLoss(10, 'dense', softmax = False),\n",
    "                       YoloLoss(10, 'medium', softmax = False),\n",
    "                       YoloLoss(10, 'coarse', softmax = False)],\n",
    "                       optimizer=nadam)\n",
    "\n",
    "\n",
    "    log_dir = os.path.join(\"logs/fit\", datetime.datetime.now().strftime(\"%m%d-%H%M%S\"))\n",
    "    logging = TensorBoard(log_dir)\n",
    "    checkpoint = ModelCheckpoint(log_dir + 'ep{epoch:03d}-loss{loss:.3f}-val_loss{val_loss:.3f}.h5',\n",
    "                                 monitor='val_loss', save_weights_only=True,\n",
    "                                 save_best_only=True)\n",
    "    early_stopping = EarlyStopping(monitor='val_loss', min_delta=0, patience=5, verbose=1)\n",
    "\n",
    "    yolo.fit(train_ds_aug,\n",
    "             epochs = 20,\n",
    "             callbacks = [logging, checkpoint, lr_scheduler, early_stopping],\n",
    "             validation_data = val_ds)\n"
   ]
  },
  {
   "cell_type": "code",
   "execution_count": null,
   "metadata": {},
   "outputs": [],
   "source": []
  },
  {
   "cell_type": "code",
   "execution_count": null,
   "metadata": {},
   "outputs": [],
   "source": []
  }
 ],
 "metadata": {
  "kernelspec": {
   "display_name": "Python 3",
   "language": "python",
   "name": "python3"
  },
  "language_info": {
   "codemirror_mode": {
    "name": "ipython",
    "version": 3
   },
   "file_extension": ".py",
   "mimetype": "text/x-python",
   "name": "python",
   "nbconvert_exporter": "python",
   "pygments_lexer": "ipython3",
   "version": "3.6.9"
  }
 },
 "nbformat": 4,
 "nbformat_minor": 4
}
