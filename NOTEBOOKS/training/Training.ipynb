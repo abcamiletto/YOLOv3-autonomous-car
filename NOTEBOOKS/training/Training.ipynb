{
 "cells": [
  {
   "cell_type": "markdown",
   "metadata": {},
   "source": [
    "# Training\n",
    "Seems like we're ready for training!\n",
    "\n",
    "Be aware of:\n",
    "IP : 131.114.137.168\n",
    "\n",
    "username : boscolo\n",
    "\n",
    "pssw : unipi!2020$\n",
    "\n",
    "\n",
    "\n",
    "stai attento a usare al max 2 GPU"
   ]
  },
  {
   "cell_type": "code",
   "execution_count": 1,
   "metadata": {},
   "outputs": [],
   "source": [
    "import sys, os, datetime\n",
    "sys.path.append('/home/andrea/AI/ispr_yolo/data')\n",
    "sys.path.append('/home/andrea/AI/ispr_yolo/model')\n",
    "\n",
    "from yolo import YOLOv3\n",
    "from lossfunction import YoloLoss\n",
    "from DataPreprocessing import create_dataset\n",
    "import tensorflow as tf"
   ]
  },
  {
   "cell_type": "code",
   "execution_count": null,
   "metadata": {},
   "outputs": [],
   "source": [
    "strategy = tf.distribute.MirroredStrategy(devices=[\"/gpu:2\", \"/gpu:3\"])\n",
    "print('Number of devices: {}'.format(strategy.num_replicas_in_sync))\n",
    "\n",
    "with strategy.scope():"
   ]
  },
  {
   "cell_type": "markdown",
   "metadata": {},
   "source": [
    "#### Creating the Dataset"
   ]
  },
  {
   "cell_type": "code",
   "execution_count": 2,
   "metadata": {},
   "outputs": [],
   "source": [
    "    img_dir = '/home/andrea/AI/ispr_yolo/data/dataset_bdd/images/100k/train' + '/*.jpg'\n",
    "    train_ds = create_dataset(img_dir, batch = 20)"
   ]
  },
  {
   "cell_type": "code",
   "execution_count": 3,
   "metadata": {},
   "outputs": [],
   "source": [
    "    img_dir = '/home/andrea/AI/ispr_yolo/data/dataset_bdd/images/100k/val' + '/*.jpg'\n",
    "    val_ds = create_dataset(img_dir, batch = 20)"
   ]
  },
  {
   "cell_type": "markdown",
   "metadata": {},
   "source": [
    "#### Compiling the model"
   ]
  },
  {
   "cell_type": "code",
   "execution_count": 4,
   "metadata": {},
   "outputs": [],
   "source": [
    "    yolo = YOLOv3(size = 1280, training = True)\n",
    "    nadam = tf.keras.optimizers.Nadam(learning_rate=1e-03)\n",
    "    yolo.compile(loss=[YoloLoss(10, 'dense'), YoloLoss(10, 'medium'), YoloLoss(10, 'coarse') ], optimizer=nadam)"
   ]
  },
  {
   "cell_type": "markdown",
   "metadata": {},
   "source": [
    "#### Setting up TensorBoard and callbacks"
   ]
  },
  {
   "cell_type": "code",
   "execution_count": 5,
   "metadata": {},
   "outputs": [],
   "source": [
    "    # Clear any logs from previous runs\n",
    "    !rm -rf ./logs/ "
   ]
  },
  {
   "cell_type": "code",
   "execution_count": null,
   "metadata": {},
   "outputs": [],
   "source": [
    "    %load_ext tensorboard\n",
    "    logdir = os.path.join(\"logs/fit\", datetime.datetime.now().strftime(\"%Y%m%d-%H%M%S\"))\n",
    "    "
   ]
  },
  {
   "cell_type": "code",
   "execution_count": 7,
   "metadata": {},
   "outputs": [],
   "source": [
    "    # Callbacks\n",
    "\n",
    "    logging = TensorBoard(log_dir, histogram_freq=1)\n",
    "    checkpoint = ModelCheckpoint(log_dir + 'ep{epoch:03d}-loss{loss:.3f}-val_loss{val_loss:.3f}.h5',\n",
    "                                 monitor='val_loss', save_weights_only=True,\n",
    "                                 save_best_only=True)\n",
    "    reduce_lr = ReduceLROnPlateau(monitor='val_loss', factor=0.1, patience=3, verbose=1)\n",
    "    early_stopping = EarlyStopping(monitor='val_loss', min_delta=0, patience=10, verbose=1)"
   ]
  },
  {
   "cell_type": "code",
   "execution_count": 8,
   "metadata": {
    "scrolled": true
   },
   "outputs": [
    {
     "name": "stdout",
     "output_type": "stream",
     "text": [
      "/bin/bash: line 0: kill: (20932) - No such process\r\n"
     ]
    },
    {
     "data": {
      "text/html": [
       "\n",
       "      <iframe id=\"tensorboard-frame-c5a21bf05cc3a124\" width=\"100%\" height=\"800\" frameborder=\"0\">\n",
       "      </iframe>\n",
       "      <script>\n",
       "        (function() {\n",
       "          const frame = document.getElementById(\"tensorboard-frame-c5a21bf05cc3a124\");\n",
       "          const url = new URL(\"/\", window.location);\n",
       "          const port = 6006;\n",
       "          if (port) {\n",
       "            url.port = port;\n",
       "          }\n",
       "          frame.src = url;\n",
       "        })();\n",
       "      </script>\n",
       "    "
      ],
      "text/plain": [
       "<IPython.core.display.HTML object>"
      ]
     },
     "metadata": {},
     "output_type": "display_data"
    }
   ],
   "source": [
    "    %reload_ext tensorboard\n",
    "    %tensorboard --logdir logs"
   ]
  },
  {
   "cell_type": "markdown",
   "metadata": {},
   "source": [
    "### Training"
   ]
  },
  {
   "cell_type": "code",
   "execution_count": null,
   "metadata": {},
   "outputs": [
    {
     "name": "stdout",
     "output_type": "stream",
     "text": [
      "Epoch 1/2\n",
      "    1/69863 [..............................] - ETA: 1:02:26 - loss: 59859.9219 - tf_op_layer_dense_grid_loss: 32032.7227 - tf_op_layer_medium_grid_loss: 8336.3975 - tf_op_layer_coarser_grid_loss: 19490.8008WARNING:tensorflow:From /home/andrea/anaconda2/envs/ai/lib/python3.8/site-packages/tensorflow/python/ops/summary_ops_v2.py:1277: stop (from tensorflow.python.eager.profiler) is deprecated and will be removed after 2020-07-01.\n",
      "Instructions for updating:\n",
      "use `tf.profiler.experimental.stop` instead.\n",
      "   32/69863 [..............................] - ETA: 12:39:33 - loss: 26093.7031 - tf_op_layer_dense_grid_loss: 10922.0801 - tf_op_layer_medium_grid_loss: 5381.4053 - tf_op_layer_coarser_grid_loss: 9790.2158"
     ]
    }
   ],
   "source": [
    "    yolo.fit(train_ds,\n",
    "             epochs = 2,\n",
    "             callbacks = callbacks=[logging, checkpoint],\n",
    "             validation_data = val_ds)\n",
    "    yolo.save_weights(log_dir + 'trained_weights.h5')"
   ]
  }
 ],
 "metadata": {
  "kernelspec": {
   "display_name": "Python 3",
   "language": "python",
   "name": "python3"
  },
  "language_info": {
   "codemirror_mode": {
    "name": "ipython",
    "version": 3
   },
   "file_extension": ".py",
   "mimetype": "text/x-python",
   "name": "python",
   "nbconvert_exporter": "python",
   "pygments_lexer": "ipython3",
   "version": "3.8.5"
  }
 },
 "nbformat": 4,
 "nbformat_minor": 4
}
