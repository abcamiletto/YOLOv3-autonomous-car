{
 "cells": [
  {
   "cell_type": "markdown",
   "metadata": {},
   "source": [
    "# mAP implementation"
   ]
  },
  {
   "cell_type": "code",
   "execution_count": null,
   "metadata": {},
   "outputs": [],
   "source": [
    "import numpy as np\n",
    "import tensorflow as tf\n",
    "from utils import broadcast_iou, xywh_to_x1x2y1y2\n",
    "\n",
    "\n",
    "\n",
    "class meanAveragePrec:\n",
    "    def __init__(self, threshold):\n",
    "        self.threshold = threshold\n",
    "        \n",
    "    def single_class(self, true_box, pred_box):\n",
    "        # for every ground truth BB it calculates its IoU over the BB predictions\n",
    "        iou = broadcast_iou(true_box, pred_box)\n",
    "        # for every ground thruth BB it keeps the best IoU over BB predictions\n",
    "        best_iou = tf.reduce_max(iou, axis=-1)\n",
    "        result = tf.cast(best_iou > self.threshold, tf.float32)\n",
    "        true_positives = tf.reduce_sum(result)\n",
    "        false_negatives = tf.shape(true_box)[0] - true_positives\n",
    "        false_positives = tf.shape(pred_box)[0] - true_positives"
   ]
  }
 ],
 "metadata": {
  "kernelspec": {
   "display_name": "Python 3",
   "language": "python",
   "name": "python3"
  },
  "language_info": {
   "codemirror_mode": {
    "name": "ipython",
    "version": 3
   },
   "file_extension": ".py",
   "mimetype": "text/x-python",
   "name": "python",
   "nbconvert_exporter": "python",
   "pygments_lexer": "ipython3",
   "version": "3.8.5"
  }
 },
 "nbformat": 4,
 "nbformat_minor": 4
}
