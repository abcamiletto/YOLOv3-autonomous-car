{
 "cells": [
  {
   "cell_type": "markdown",
   "metadata": {},
   "source": [
    "# Obstacle detection on Berkeley Deep Drive Dataset\n",
    "This will be an implementation of a Yolo v2-v3 on the recent dataset published by Berkley for autonomous driving. The various comment will guide you into the code, but for a more general understanding of the project i suggest to read the README.md\n",
    "\n",
    "## Importing the main libraries"
   ]
  },
  {
   "cell_type": "code",
   "execution_count": 14,
   "metadata": {},
   "outputs": [],
   "source": [
    "# Utility libraries\n",
    "import os\n",
    "import random\n",
    "import matplotlib.pyplot as plt\n",
    "\n",
    "# Core libraries\n",
    "import numpy as np\n",
    "import tensorflow as tf\n",
    "\n",
    "from tensorflow import keras\n",
    "# from tensorflow.keras.models import Sequential\n",
    "# from tensorflow.keras.layers import Dense, Softmax\n",
    "# from tensorflow.keras import regularizers\n",
    "# from tensorflow.keras import metrics\n",
    "# from tensorflow.keras import losses\n",
    "# from tensorflow.keras import optimizers\n",
    "from tensorflow.keras.callbacks import TensorBoard\n",
    "from tensorflow.keras.layers import Conv2D, LeakyReLU, Add, BatchNormalization\n"
   ]
  },
  {
   "cell_type": "code",
   "execution_count": 11,
   "metadata": {},
   "outputs": [],
   "source": [
    "# Load the TensorBoard notebook extension (for visualization purposes)\n",
    "%load_ext tensorboard"
   ]
  },
  {
   "cell_type": "markdown",
   "metadata": {},
   "source": [
    "## Model designing"
   ]
  },
  {
   "cell_type": "markdown",
   "metadata": {},
   "source": [
    "### Residual Blocks\n",
    "First of all, we need to write down the code for the residual blocks used in the Darknet-53, which is a 53 layer deep feature extracotr used as a backbone for YOLOv3"
   ]
  },
  {
   "cell_type": "code",
   "execution_count": 16,
   "metadata": {},
   "outputs": [],
   "source": [
    "class Residual_Block(keras.layers.Layer):\n",
    "    def __init__(self, filters_alpha, filter_beta):\n",
    "        super().__init__()\n",
    "        self.hidden = [\n",
    "            Conv2D(filters = filters_alpha,\n",
    "                   kernel_size = 1,\n",
    "                   strides = 1,\n",
    "                   padding = \"same\"),\n",
    "            BatchNormalization(),\n",
    "            LeakyReLU(alpha=0.1),\n",
    "            Conv2D(filters = filters_beta,\n",
    "                   kernel_size = 3,\n",
    "                   strides = 1,\n",
    "                   padding = \"same\"),\n",
    "            BatchNormalization(),\n",
    "            LeakyReLU(alpha=0.1)\n",
    "        ]\n",
    "    def call(self, inputs):\n",
    "        Z = inputs\n",
    "        skip_Z = inputs\n",
    "        for layer in self.hidden:\n",
    "            Z = layer(Z)\n",
    "        output = Add()([Z, skip_Z])\n",
    "        return output"
   ]
  },
  {
   "cell_type": "code",
   "execution_count": null,
   "metadata": {},
   "outputs": [],
   "source": [
    "class Darknet_53(keras.Model):\n",
    "    def __init__ (self):\n",
    "        pass\n",
    "    def call(self, inputs):\n",
    "        pass\n",
    "    "
   ]
  }
 ],
 "metadata": {
  "kernelspec": {
   "display_name": "Python 3",
   "language": "python",
   "name": "python3"
  },
  "language_info": {
   "codemirror_mode": {
    "name": "ipython",
    "version": 3
   },
   "file_extension": ".py",
   "mimetype": "text/x-python",
   "name": "python",
   "nbconvert_exporter": "python",
   "pygments_lexer": "ipython3",
   "version": "3.8.5"
  }
 },
 "nbformat": 4,
 "nbformat_minor": 4
}
