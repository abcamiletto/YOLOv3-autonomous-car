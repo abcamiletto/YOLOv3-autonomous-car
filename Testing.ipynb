{
 "cells": [
  {
   "cell_type": "markdown",
   "metadata": {},
   "source": [
    "# Testing Script\n",
    "\n",
    "Run the following to see if TensorFlow detects the GPU"
   ]
  },
  {
   "cell_type": "code",
   "execution_count": 3,
   "metadata": {},
   "outputs": [
    {
     "name": "stdout",
     "output_type": "stream",
     "text": [
      "GPU avaible:  [PhysicalDevice(name='/physical_device:GPU:0', device_type='GPU')]\n",
      "\n",
      "TF Version:  2.2.0\n",
      "Python Version:  3.8.5 | packaged by conda-forge | (default, Jul 31 2020, 02:39:48) \n",
      "[GCC 7.5.0]\n"
     ]
    }
   ],
   "source": [
    "import sys\n",
    "import tensorflow as tf\n",
    "\n",
    "print(\"GPU avaible:  \" + str(tf.config.list_physical_devices('GPU')) + \"\\n\")\n",
    "print(\"TF Version:  \" + str(tf.__version__))\n",
    "print(\"Python Version:  \" + str(sys.version))"
   ]
  }
 ],
 "metadata": {
  "kernelspec": {
   "display_name": "Python 3",
   "language": "python",
   "name": "python3"
  },
  "language_info": {
   "codemirror_mode": {
    "name": "ipython",
    "version": 3
   },
   "file_extension": ".py",
   "mimetype": "text/x-python",
   "name": "python",
   "nbconvert_exporter": "python",
   "pygments_lexer": "ipython3",
   "version": "3.8.5"
  }
 },
 "nbformat": 4,
 "nbformat_minor": 4
}
